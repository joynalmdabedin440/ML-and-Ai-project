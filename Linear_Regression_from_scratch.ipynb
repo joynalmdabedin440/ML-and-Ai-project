{
  "nbformat": 4,
  "nbformat_minor": 0,
  "metadata": {
    "colab": {
      "provenance": [],
      "toc_visible": true,
      "authorship_tag": "ABX9TyP44YJMcOBocP3HZICY+3Lz",
      "include_colab_link": true
    },
    "kernelspec": {
      "name": "python3",
      "display_name": "Python 3"
    },
    "language_info": {
      "name": "python"
    }
  },
  "cells": [
    {
      "cell_type": "markdown",
      "metadata": {
        "id": "view-in-github",
        "colab_type": "text"
      },
      "source": [
        "<a href=\"https://colab.research.google.com/github/joynalmdabedin440/ML-and-Ai-project/blob/main/Linear_Regression_from_scratch.ipynb\" target=\"_parent\"><img src=\"https://colab.research.google.com/assets/colab-badge.svg\" alt=\"Open In Colab\"/></a>"
      ]
    },
    {
      "cell_type": "code",
      "execution_count": null,
      "metadata": {
        "id": "R6oOFLBsxDWq"
      },
      "outputs": [],
      "source": [
        "import numpy as np\n",
        "import pandas as pd\n",
        "\n",
        "from sklearn.model_selection import train_test_split\n",
        "\n",
        "import matplotlib.pyplot as plt\n",
        "\n"
      ]
    },
    {
      "cell_type": "code",
      "source": [
        "class Linear_Regression():\n",
        "  def __init__(self, learning_rate, no_of_iterations, ):\n",
        "\n",
        "    self.learning_rate=learning_rate\n",
        "    self.no_of_iterations = no_of_iterations\n",
        "\n",
        "  def fit(self,x,y):\n",
        "    self.m, self.n = x.shape #number of rows and columns\n",
        "\n",
        "\n",
        "    # initiating the weight and bias\n",
        "\n",
        "    self.w = np.zeros(self.n)\n",
        "    self.b=0\n",
        "    self.x=x\n",
        "    self.y=y\n",
        "\n",
        "    #implementing gradient descent\n",
        "    for i in range(self.no_of_iterations):\n",
        "      self.update_weight()\n",
        "\n",
        "\n",
        "  def update_weight(self,):\n",
        "    y_prediction = self.predict(self.x)\n",
        "\n",
        "    #calculat gradient\n",
        "    dw= -(2*(self.x.T).dot(self.y - y_prediction)) / self.m\n",
        "\n",
        "    db = -2*np.sum(self.y-y_prediction) / self.m\n",
        "\n",
        "    #update the weight\n",
        "\n",
        "    self.w = self.w - self.learning_rate*dw\n",
        "\n",
        "    self.b = self.b - self.learning_rate*db\n",
        "\n",
        "\n",
        "  def predict(self, x):\n",
        "    return x.dot(self.w)+self.b\n",
        "\n",
        "\n",
        "\n",
        "\n"
      ],
      "metadata": {
        "id": "rOU7Hm_GxW9t"
      },
      "execution_count": null,
      "outputs": []
    },
    {
      "cell_type": "code",
      "source": [
        "\n",
        "mark_data=pd.read_csv('/content/salary_data.csv')"
      ],
      "metadata": {
        "id": "DqXfhkG1lRhr"
      },
      "execution_count": null,
      "outputs": []
    },
    {
      "cell_type": "code",
      "source": [
        "mark_data.shape\n",
        "mark_data.head()\n",
        "\n",
        "print(mark_data)"
      ],
      "metadata": {
        "id": "PYwRAjRLlhk6"
      },
      "execution_count": null,
      "outputs": []
    },
    {
      "cell_type": "code",
      "source": [
        "x=mark_data.iloc[:,:-1].values\n",
        "y=mark_data.iloc[:,1].values\n"
      ],
      "metadata": {
        "id": "P-7h-1bZl1b6"
      },
      "execution_count": null,
      "outputs": []
    },
    {
      "cell_type": "code",
      "source": [
        "x_train,x_test,y_train,y_test=train_test_split(x,y,test_size=0.25,random_state=3)"
      ],
      "metadata": {
        "id": "oWIpTd9HqDeP"
      },
      "execution_count": null,
      "outputs": []
    },
    {
      "cell_type": "code",
      "source": [
        "liner=Linear_Regression(learning_rate=0.001,no_of_iterations=1000)\n",
        "\n",
        "liner.fit(x_train,y_train)\n"
      ],
      "metadata": {
        "id": "Xal2ASf3l2QC"
      },
      "execution_count": null,
      "outputs": []
    },
    {
      "cell_type": "code",
      "source": [
        "print('weight: ',liner.w[0])\n",
        "print('bias: ',liner.b)"
      ],
      "metadata": {
        "colab": {
          "base_uri": "https://localhost:8080/"
        },
        "id": "xbwihmtYswP2",
        "outputId": "9be23ff9-12ff-4a2d-ebcf-d96774c7d83b"
      },
      "execution_count": null,
      "outputs": [
        {
          "output_type": "stream",
          "name": "stdout",
          "text": [
            "weight:  12819.287929775102\n",
            "bias:  2981.3951458755737\n"
          ]
        }
      ]
    },
    {
      "cell_type": "code",
      "source": [
        "test_data_prediction = liner.predict(x_test)"
      ],
      "metadata": {
        "id": "DfWbQziRtLsm"
      },
      "execution_count": null,
      "outputs": []
    },
    {
      "cell_type": "code",
      "source": [
        "print(test_data_prediction)"
      ],
      "metadata": {
        "colab": {
          "base_uri": "https://localhost:8080/"
        },
        "id": "93ZFtwwatqNt",
        "outputId": "a8a14569-4706-44a9-cf4e-3cb6b6d01e1f"
      },
      "execution_count": null,
      "outputs": [
        {
          "output_type": "stream",
          "name": "stdout",
          "text": [
            "[nan nan nan nan nan nan nan nan]\n"
          ]
        }
      ]
    },
    {
      "cell_type": "code",
      "source": [
        "plt.scatter(x_test,y_test,color='blue')\n",
        "plt.plot(x_test,test_data_prediction,color='red')\n",
        "plt.xlabel(\"work experience\")\n",
        "plt.ylabel(\"salary\")\n",
        "plt.title('salary vs experience')\n",
        "plt.show()"
      ],
      "metadata": {
        "colab": {
          "base_uri": "https://localhost:8080/",
          "height": 472
        },
        "id": "V_IZUOeNu1e1",
        "outputId": "d1360325-aedf-48f4-ffe5-99bff6c484da"
      },
      "execution_count": null,
      "outputs": [
        {
          "output_type": "display_data",
          "data": {
            "text/plain": [
              "<Figure size 640x480 with 1 Axes>"
            ],
            "image/png": "[encoded data removed]"
          },
          "metadata": {}
        }
      ]
    },
    {
      "cell_type": "code",
      "source": [
        "a=[2,3,4,5]\n",
        "for i in a:\n",
        "  print([i,1])"
      ],
      "metadata": {
        "colab": {
          "base_uri": "https://localhost:8080/"
        },
        "id": "St1Zx2F4BpDT",
        "outputId": "96b24a87-c002-4066-94cd-4406717c36ac"
      },
      "execution_count": null,
      "outputs": [
        {
          "output_type": "stream",
          "name": "stdout",
          "text": [
            "[2, 1]\n",
            "[3, 1]\n",
            "[4, 1]\n",
            "[5, 1]\n"
          ]
        }
      ]
    },
    {
      "cell_type": "code",
      "source": [
        "from numpy import *\n",
        "\n",
        "# y = mx + b\n",
        "# m is slope, b is y-intercept\n",
        "def compute_error_for_line_given_points(b, m, points):\n",
        "    totalError = 0\n",
        "    for i in range(0, len(points)):\n",
        "        x = points[i, 0]\n",
        "        y = points[i, 1]\n",
        "        totalError += (y - (m * x + b)) ** 2\n",
        "    return totalError / float(len(points))\n",
        "\n",
        "def step_gradient(b_current, m_current, points, learningRate):\n",
        "    b_gradient = 0\n",
        "    m_gradient = 0\n",
        "    N = float(len(points))\n",
        "    for i in range(0, len(points)):\n",
        "        x = points[i, 0]\n",
        "        y = points[i, 1]\n",
        "        #print(\"x=\",x)\n",
        "\n",
        "\n",
        "        b_gradient += -(2/N) * (y - ((m_current * x) + b_current))\n",
        "        m_gradient += -(2/N) * x * (y - ((m_current * x) + b_current))\n",
        "    new_b = b_current - (learningRate * b_gradient)\n",
        "    new_m = m_current - (learningRate * m_gradient)\n",
        "    return [new_b, new_m]\n",
        "\n",
        "def gradient_descent_runner(points, starting_b, starting_m, learning_rate, num_iterations):\n",
        "    b = starting_b\n",
        "    m = starting_m\n",
        "\n",
        "\n",
        "    for i in range(num_iterations):\n",
        "        b, m = step_gradient(b, m, array(points), learning_rate)\n",
        "\n",
        "    return [b, m]\n",
        "\n",
        "def run():\n",
        "    points = genfromtxt(\"/content/data.csv\", delimiter=\",\")\n",
        "    #print(\"points:\",points)\n",
        "    learning_rate = 0.0001\n",
        "    initial_b = 0 # initial y-intercept guess\n",
        "    initial_m = 0 # initial slope guess\n",
        "\n",
        "    num_iterations = 1000\n",
        "    #print(\"Starting gradient descent at b = {0}, m = {1}, error = {2}\".format(initial_b, initial_m, compute_error_for_line_given_points(initial_b, initial_m, points)))\n",
        "    print(f\"Starting gradient descent at b = {initial_b}, m = {initial_m}, error = {compute_error_for_line_given_points(initial_b, initial_m, points)}\")\n",
        "    print(\"Running...\")\n",
        "    [b, m] = gradient_descent_runner(points, initial_b, initial_m, learning_rate, num_iterations)\n",
        "    print(\"After {0} iterations b = {1}, m = {2}, error = {3}\".format(num_iterations, b, m, compute_error_for_line_given_points(b, m, points)))\n",
        "\n",
        "\n",
        "run()"
      ],
      "metadata": {
        "id": "uYXsrTgP9Ous"
      },
      "execution_count": null,
      "outputs": []
    },
    {
      "cell_type": "code",
      "source": [
        "import numpy as np\n",
        "\n",
        "points = genfromtxt(\"/content/data.csv\", delimiter=\",\")\n",
        "\n",
        "\n",
        "\n",
        "# Initialize parameters\n",
        "m = 0  # Slope\n",
        "b = 0  # Intercept\n",
        "learning_rate = 0.01  # Hyperparameter\n",
        "epochs = 1000  # Number of iterations\n",
        "\n",
        "# Gradient Descent\n",
        "for epoch in range(1,epochs):\n",
        "    x = points[epoch, 0]\n",
        "    y = points[epoch, 1]\n",
        "    # Step 2: Compute predictions\n",
        "    y_pred = m * x + b\n",
        "\n",
        "    # Step 3: Compute loss\n",
        "    error = y_pred - y\n",
        "    loss = np.mean(error ** 2)  # Mean Squared Error (MSE) loss\n",
        "\n",
        "    # Step 4: Compute gradients\n",
        "    gradient_m = np.mean(2 * error * x)\n",
        "    gradient_b = np.mean(2 * error)\n",
        "\n",
        "    # Step 5: Update parameters\n",
        "    m -= learning_rate * gradient_m\n",
        "    b -= learning_rate * gradient_b\n",
        "\n",
        "    # Print progress\n",
        "    if epoch % 100 == 0:\n",
        "        print(f'Epoch: {epoch}, Loss: {loss}')\n",
        "\n",
        "print(f'Optimal values: m = {m}, b = {b}')\n"
      ],
      "metadata": {
        "id": "SeLQmflhFA7L",
        "colab": {
          "base_uri": "https://localhost:8080/"
        },
        "outputId": "c9151d8e-bbbb-4dd8-822e-5a42cc8220d3"
      },
      "execution_count": null,
      "outputs": [
        {
          "output_type": "stream",
          "name": "stdout",
          "text": [
            "Optimal values: m = 1.1228706731828368e+164, b = 4.651907520569275e+162\n"
          ]
        },
        {
          "output_type": "stream",
          "name": "stderr",
          "text": [
            "<ipython-input-8-adc5921172d9>:22: RuntimeWarning: overflow encountered in scalar power\n",
            "  loss = np.mean(error ** 2)  # Mean Squared Error (MSE) loss\n"
          ]
        }
      ]
    },
    {
      "cell_type": "code",
      "source": [
        "import numpy as np\n",
        "from numpy import genfromtxt\n",
        "\n",
        "points = genfromtxt(\"/content/data.csv\", delimiter=\",\")\n",
        "\n",
        "# Initialize parameters\n",
        "m = 0  # Slope\n",
        "b = 0  # Intercept\n",
        "learning_rate = 0.0001  # Reduced learning rate\n",
        "epochs = 1000  # Number of iterations\n",
        "\n",
        "# Gradient Descent\n",
        "for epoch in range(1, epochs):\n",
        "    total_loss = 0\n",
        "\n",
        "    for point in points:\n",
        "        x, y = point\n",
        "        print(x)\n",
        "        # Step 2: Compute predictions\n",
        "        y_pred = m * x + b\n",
        "\n",
        "        # Step 3: Compute loss\n",
        "        error = y_pred - y\n",
        "        total_loss += error ** 2\n",
        "\n",
        "        # Step 4: Compute gradients\n",
        "        gradient_m = 2 * error * x\n",
        "        gradient_b = 2 * error\n",
        "\n",
        "        # Step 5: Update parameters\n",
        "        m -= learning_rate * gradient_m\n",
        "        b -= learning_rate * gradient_b\n",
        "\n",
        "    # Print progress\n",
        "    if epoch % 100 == 0:\n",
        "        mean_loss = total_loss / len(points)\n",
        "        print(f'Epoch: {epoch}, Loss: {mean_loss}')\n",
        "\n",
        "print(f'Optimal values: m = {m}, b = {b}')\n"
      ],
      "metadata": {
        "id": "Q-gl9KdRem2N"
      },
      "execution_count": null,
      "outputs": []
    },
    {
      "cell_type": "code",
      "source": [],
      "metadata": {
        "id": "GzApejQOicu9"
      },
      "execution_count": null,
      "outputs": []
    },
    {
      "cell_type": "code",
      "source": [
        "\n"
      ],
      "metadata": {
        "id": "OLVgzrMTlQyO"
      },
      "execution_count": null,
      "outputs": []
    },
    {
      "cell_type": "code",
      "source": [],
      "metadata": {
        "id": "AAMF_gMOmo6l"
      },
      "execution_count": null,
      "outputs": []
    },
    {
      "cell_type": "code",
      "source": [],
      "metadata": {
        "id": "tOHIm3NKpo8V"
      },
      "execution_count": null,
      "outputs": []
    },
    {
      "cell_type": "code",
      "source": [],
      "metadata": {
        "id": "3YFMDOQysQoN"
      },
      "execution_count": null,
      "outputs": []
    }
  ]
}